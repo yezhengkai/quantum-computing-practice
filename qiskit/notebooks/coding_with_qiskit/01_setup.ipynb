{
 "cells": [
  {
   "cell_type": "markdown",
   "id": "d7452955",
   "metadata": {},
   "source": [
    "This notebook is referenced from [How to install Qiskit — Programming on Quantum Computers Season 1 Ep 2](https://www.youtube.com/watch?v=M4EkW4VwhcI&list=PLOFEBzvs-Vvp2xg9-POLJhQwtVktlYGbY&index=2)"
   ]
  },
  {
   "cell_type": "code",
   "execution_count": 1,
   "id": "4a8615a5",
   "metadata": {},
   "outputs": [],
   "source": [
    "import qiskit"
   ]
  },
  {
   "cell_type": "code",
   "execution_count": 2,
   "id": "3bc15969",
   "metadata": {},
   "outputs": [
    {
     "data": {
      "text/plain": [
       "{'qiskit-terra': '0.17.4', 'qiskit-aer': '0.8.2', 'qiskit-ignis': '0.6.0', 'qiskit-ibmq-provider': '0.14.0', 'qiskit-aqua': '0.9.2', 'qiskit': '0.27.0', 'qiskit-nature': None, 'qiskit-finance': None, 'qiskit-optimization': None, 'qiskit-machine-learning': None}"
      ]
     },
     "execution_count": 2,
     "metadata": {},
     "output_type": "execute_result"
    }
   ],
   "source": [
    "qiskit.__qiskit_version__"
   ]
  },
  {
   "cell_type": "code",
   "execution_count": 7,
   "id": "944fa1f7",
   "metadata": {},
   "outputs": [],
   "source": [
    "from qiskit import IBMQ"
   ]
  },
  {
   "cell_type": "markdown",
   "id": "6e05ffbc",
   "metadata": {},
   "source": [
    "use `IBMQ.save_account(\"your_API_token\")` to save your API token in `~/.qiskit/qiskitrc`."
   ]
  },
  {
   "cell_type": "code",
   "execution_count": 4,
   "id": "fa25e049",
   "metadata": {},
   "outputs": [],
   "source": [
    "# IBMQ.save_account(\"your_API_token\")"
   ]
  },
  {
   "cell_type": "markdown",
   "id": "9fe98a6a",
   "metadata": {},
   "source": [
    "Check if it is working properly"
   ]
  },
  {
   "cell_type": "code",
   "execution_count": 8,
   "id": "3366fcdc",
   "metadata": {},
   "outputs": [
    {
     "data": {
      "text/plain": [
       "<AccountProvider for IBMQ(hub='ibm-q', group='open', project='main')>"
      ]
     },
     "execution_count": 8,
     "metadata": {},
     "output_type": "execute_result"
    }
   ],
   "source": [
    "IBMQ.load_account()"
   ]
  },
  {
   "cell_type": "markdown",
   "id": "02a9d2dd",
   "metadata": {},
   "source": [
    "(Optional) Follow [Local Configuration](https://qiskit.org/documentation/configuration.html) to set up your config file and environment variables.\n",
    "\n",
    "Here is my `settings.conf`\n",
    "```ini\n",
    "[default]\n",
    "; {latex, mpl, text, latex_source}\n",
    "circuit_drawer = mpl\n",
    "; {default, bw}\n",
    "circuit_mpl_style = default\n",
    "circuit_mpl_style_path = ~:~/.qiskit\n",
    "; {repr, text, latex, latex_source, qsphere, hinton, bloch}\n",
    "state_drawer = hinton\n",
    "; * 0: no optimization     * 1: light optimization\n",
    "; * 2: heavy optimization  * 3: even heavier\n",
    "transpile_optimization_level = 1\n",
    "; whether Python multiprocessing is enabled\n",
    "parallel = True\n",
    "num_processes = 4\n",
    "```"
   ]
  }
 ],
 "metadata": {
  "kernelspec": {
   "display_name": "Python 3 (ipykernel)",
   "language": "python",
   "name": "python3"
  },
  "language_info": {
   "codemirror_mode": {
    "name": "ipython",
    "version": 3
   },
   "file_extension": ".py",
   "mimetype": "text/x-python",
   "name": "python",
   "nbconvert_exporter": "python",
   "pygments_lexer": "ipython3",
   "version": "3.9.6"
  }
 },
 "nbformat": 4,
 "nbformat_minor": 5
}
